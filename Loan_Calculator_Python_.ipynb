{
 "cells": [
  {
   "attachments": {},
   "cell_type": "markdown",
   "metadata": {},
   "source": [
    "# GROUP ACTIVITY 4 \n",
    "\n",
    "## Analytical Alchemists - Group 4\n",
    "\n",
    "<br>\n",
    "<br>"
   ]
  },
  {
   "attachments": {},
   "cell_type": "markdown",
   "metadata": {},
   "source": [
    "# Problem 4: Loan Calculator\n",
    "- Create a program to calculate whether a loan is a good one or not. Here are the criteria:\n",
    "\n",
    "<br>\n",
    "\n",
    "- If the loan's monthly payment is less than 30% of the user's monthly income, print 'Loan is affordable.'\n",
    "- If the loan will be paid off in less than 3 years, print 'Loan will be paid off quickly.'\n",
    "- If both of the above conditions are true, print 'Loan is a good one.'\n",
    "\n",
    "<br>\n",
    "\n",
    "#### Your program should define a function loan_evaluator which accepts three parameters: \n",
    "- loan's monthly payment, \n",
    "- user's monthly income,  \n",
    "- loan's duration (in months), \n",
    "\n",
    "and returns a string based on the above criteria."
   ]
  },
  {
   "cell_type": "code",
   "execution_count": 37,
   "metadata": {},
   "outputs": [],
   "source": [
    "## <30% monthly income = 'Loan is affordable'\n",
    "## paid off in les than 3 years = 'Loan will be paid off quickly'\n",
    "## If both are true = 'Loan is a good one'\n"
   ]
  },
  {
   "cell_type": "code",
   "execution_count": 2,
   "metadata": {},
   "outputs": [],
   "source": [
    "def loan_evaluator():\n",
    "    monthly_income = float(input(\"Enter your Monthly Income: \"))\n",
    "    monthly_payment = float(input(\"Enter your Monthly payment: \"))\n",
    "    loan_duration = float(input(\"Enter the loan duration (in months): \"))\n",
    "    \n",
    "    \n",
    "    \n",
    "    if monthly_payment < monthly_income*0.3 and loan_duration < 36:\n",
    "        print('Loan is a good one')\n",
    "        \n",
    "    elif loan_duration < 36:\n",
    "        print('Loan will be paid off quickly')\n",
    "        \n",
    "    elif monthly_payment < monthly_income*0.3:\n",
    "        print('Loan is affordable')\n",
    "        \n",
    "    else:\n",
    "        print(\"Can't afford this Loan\")\n",
    "        "
   ]
  },
  {
   "cell_type": "code",
   "execution_count": 3,
   "metadata": {},
   "outputs": [
    {
     "name": "stdout",
     "output_type": "stream",
     "text": [
      "Loan is a good one\n"
     ]
    }
   ],
   "source": [
    "# income = 1000\n",
    "# monthly payment = 100\n",
    "# loan duration = 12.5\n",
    "\n",
    "loan_evaluator()"
   ]
  },
  {
   "cell_type": "code",
   "execution_count": 4,
   "metadata": {},
   "outputs": [
    {
     "name": "stdout",
     "output_type": "stream",
     "text": [
      "Loan will be paid off quickly\n"
     ]
    }
   ],
   "source": [
    "# income = 1000\n",
    "# monthly payment = 900\n",
    "# loan duration = 12\n",
    "\n",
    "loan_evaluator()"
   ]
  },
  {
   "cell_type": "code",
   "execution_count": 33,
   "metadata": {},
   "outputs": [
    {
     "name": "stdout",
     "output_type": "stream",
     "text": [
      "Loan is affordable\n"
     ]
    }
   ],
   "source": [
    "# income = 1000\n",
    "# monthly payment = 200\n",
    "# loan duration = 38\n",
    "\n",
    "loan_evaluator()"
   ]
  },
  {
   "cell_type": "code",
   "execution_count": 36,
   "metadata": {},
   "outputs": [
    {
     "name": "stdout",
     "output_type": "stream",
     "text": [
      "Can't afford this Loan\n"
     ]
    }
   ],
   "source": [
    "# income = 1000\n",
    "# monthly payment = 900\n",
    "# loan duration = 38\n",
    "\n",
    "loan_evaluator()"
   ]
  },
  {
   "cell_type": "code",
   "execution_count": null,
   "metadata": {},
   "outputs": [],
   "source": []
  }
 ],
 "metadata": {
  "kernelspec": {
   "display_name": "Python 3",
   "language": "python",
   "name": "python3"
  },
  "language_info": {
   "codemirror_mode": {
    "name": "ipython",
    "version": 3
   },
   "file_extension": ".py",
   "mimetype": "text/x-python",
   "name": "python",
   "nbconvert_exporter": "python",
   "pygments_lexer": "ipython3",
   "version": "3.11.3"
  },
  "orig_nbformat": 4
 },
 "nbformat": 4,
 "nbformat_minor": 2
}
